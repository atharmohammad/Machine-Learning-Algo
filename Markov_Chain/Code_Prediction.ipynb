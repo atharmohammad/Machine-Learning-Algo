{
 "cells": [
  {
   "cell_type": "markdown",
   "metadata": {},
   "source": [
    "# Code Prediction using Markov chain "
   ]
  },
  {
   "cell_type": "code",
   "execution_count": 1,
   "metadata": {},
   "outputs": [],
   "source": [
    "import numpy as np"
   ]
  },
  {
   "cell_type": "code",
   "execution_count": 2,
   "metadata": {},
   "outputs": [],
   "source": [
    "def generateTable(code,k=4):\n",
    "    T = {}\n",
    "    for ix in range(len(code)-k):\n",
    "        sentence = code[ix:ix+k]\n",
    "        pred = code[ix+k]\n",
    "        if T.get(sentence) is None:\n",
    "            T[sentence] = {}\n",
    "            T[sentence][pred] = 1\n",
    "        else:\n",
    "            if T[sentence].get(pred) is None:\n",
    "                T[sentence][pred] = 1\n",
    "            else:\n",
    "                T[sentence][pred] += 1\n",
    "        \n",
    "    return T"
   ]
  },
  {
   "cell_type": "code",
   "execution_count": 3,
   "metadata": {},
   "outputs": [],
   "source": [
    "T = generateTable(\"Hello Helli Hi\")"
   ]
  },
  {
   "cell_type": "code",
   "execution_count": 4,
   "metadata": {},
   "outputs": [],
   "source": [
    "def convFreqintoProb(T):\n",
    "    for ix in T.keys():\n",
    "        total_sum = float(sum(T[ix].values()));\n",
    "        for k in T[ix].keys():\n",
    "            prob = T[ix][k]/float(total_sum)\n",
    "            T[ix][k] = prob\n",
    "    \n",
    "    return T"
   ]
  },
  {
   "cell_type": "code",
   "execution_count": 5,
   "metadata": {},
   "outputs": [
    {
     "data": {
      "text/plain": [
       "{'Hell': {'o': 0.5, 'i': 0.5},\n",
       " 'ello': {' ': 1.0},\n",
       " 'llo ': {'H': 1.0},\n",
       " 'lo H': {'e': 1.0},\n",
       " 'o He': {'l': 1.0},\n",
       " ' Hel': {'l': 1.0},\n",
       " 'elli': {' ': 1.0},\n",
       " 'lli ': {'H': 1.0},\n",
       " 'li H': {'i': 1.0}}"
      ]
     },
     "execution_count": 5,
     "metadata": {},
     "output_type": "execute_result"
    }
   ],
   "source": [
    "convFreqintoProb(T)"
   ]
  },
  {
   "cell_type": "code",
   "execution_count": 6,
   "metadata": {},
   "outputs": [],
   "source": [
    "def loadCode(path):\n",
    "    with open(path,encoding='utf8') as f:\n",
    "        return f.read().lower()"
   ]
  },
  {
   "cell_type": "code",
   "execution_count": 7,
   "metadata": {},
   "outputs": [
    {
     "name": "stdout",
     "output_type": "stream",
     "text": [
      "/* author : mohd athar */\n"
     ]
    }
   ],
   "source": [
    "print(loadCode('./code.txt')[:25])"
   ]
  },
  {
   "cell_type": "code",
   "execution_count": 8,
   "metadata": {},
   "outputs": [],
   "source": [
    "def train(code,k=4):\n",
    "    T = generateTable(code,k)\n",
    "    return convFreqintoProb(T)"
   ]
  },
  {
   "cell_type": "code",
   "execution_count": 9,
   "metadata": {},
   "outputs": [],
   "source": [
    "sample_code = loadCode('./code.txt')\n",
    "model = train(sample_code)"
   ]
  },
  {
   "cell_type": "code",
   "execution_count": 10,
   "metadata": {},
   "outputs": [],
   "source": [
    "def predictedChar(sentence,model):\n",
    "    possible_val = list(model[sentence].values())\n",
    "    possible_keys = list(model[sentence].keys())\n",
    "    return np.random.choice(possible_keys,p=possible_val)"
   ]
  },
  {
   "cell_type": "code",
   "execution_count": 11,
   "metadata": {},
   "outputs": [],
   "source": [
    "def predictCode(startCode,model,k=4,maxLength=500):\n",
    "    code = startCode\n",
    "    ctx = startCode[-k:]\n",
    "    for ix in range(maxLength):\n",
    "        if model.get(ctx) == None:\n",
    "            code+=' '\n",
    "        else:\n",
    "            code += predictedChar(ctx,model)\n",
    "        \n",
    "        ctx = code[-k:]\n",
    "    \n",
    "    return code\n",
    "        "
   ]
  },
  {
   "cell_type": "code",
   "execution_count": 12,
   "metadata": {},
   "outputs": [],
   "source": [
    "predictedCode = predictCode('/* Author : Mohd Athar */#include<bits/stdc++.h>using namespace std;#define ll long long',model)"
   ]
  },
  {
   "cell_type": "code",
   "execution_count": 13,
   "metadata": {},
   "outputs": [
    {
     "name": "stdout",
     "output_type": "stream",
     "text": [
      "/* Author : Mohd Athar */#include<bits/stdc++.h>using namespace std;#define ll long long\n",
      "int left = query(int s , int *tree(tree[index];    tree , a , inc;\n",
      "    lazy update we see that if range compeletly overlaps that if parent 0\n",
      "     cin>>inc;\n",
      "    tree[index];\n",
      "    lazy_propagation(tree[2*index] += lazy[index];\n",
      "     }\n",
      "\n",
      "           lazy[index];\n",
      "              int index];\n",
      "      lazy[index , qs , e , int_max;\n",
      "\n",
      "    lazy[index , int *tree[index);\n",
      "     }\n",
      "\n",
      "     int mid + 1] += lazy[index] = min(tree[index] , tree , a  ,s , mid , 2*index] , tree[index];\n",
      "         lazy[index] += lazy[10000] = \n"
     ]
    }
   ],
   "source": [
    "print(predictedCode)"
   ]
  },
  {
   "cell_type": "markdown",
   "metadata": {},
   "source": [
    "# Hence the code is getting predicted "
   ]
  },
  {
   "cell_type": "code",
   "execution_count": null,
   "metadata": {},
   "outputs": [],
   "source": []
  }
 ],
 "metadata": {
  "kernelspec": {
   "display_name": "Python 3",
   "language": "python",
   "name": "python3"
  },
  "language_info": {
   "codemirror_mode": {
    "name": "ipython",
    "version": 3
   },
   "file_extension": ".py",
   "mimetype": "text/x-python",
   "name": "python",
   "nbconvert_exporter": "python",
   "pygments_lexer": "ipython3",
   "version": "3.8.3"
  }
 },
 "nbformat": 4,
 "nbformat_minor": 4
}
