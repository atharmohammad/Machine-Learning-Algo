{
 "cells": [
  {
   "cell_type": "markdown",
   "metadata": {},
   "source": [
    "# IMDB Reviews classification using Recurrent Neural Networks"
   ]
  },
  {
   "cell_type": "code",
   "execution_count": 1,
   "metadata": {},
   "outputs": [],
   "source": [
    "from keras.datasets import imdb"
   ]
  },
  {
   "cell_type": "code",
   "execution_count": 2,
   "metadata": {},
   "outputs": [],
   "source": [
    "((XT,YT),(xt,yt)) = imdb.load_data(num_words=10000)"
   ]
  },
  {
   "cell_type": "code",
   "execution_count": 3,
   "metadata": {},
   "outputs": [],
   "source": [
    "#word index from imdb\n",
    "word_idx = imdb.get_word_index()"
   ]
  },
  {
   "cell_type": "code",
   "execution_count": 4,
   "metadata": {},
   "outputs": [],
   "source": [
    "# index mapped to word imdb dict\n",
    "idx_to_word = dict([val,key] for (key,val) in word_idx.items())"
   ]
  },
  {
   "cell_type": "code",
   "execution_count": 5,
   "metadata": {},
   "outputs": [],
   "source": [
    "# converting into actual review\n",
    "actual_review = \"\"\n",
    "for idx in XT[0]:\n",
    "    actual_review += idx_to_word.get(idx-3,'?') + ' '"
   ]
  },
  {
   "cell_type": "code",
   "execution_count": 6,
   "metadata": {},
   "outputs": [
    {
     "data": {
      "text/plain": [
       "\"? this film was just brilliant casting location scenery story direction everyone's really suited the part they played and you could just imagine being there robert ? is an amazing actor and now the same being director ? father came from the same scottish island as myself so i loved the fact there was a real connection with this film the witty remarks throughout the film were great it was just brilliant so much that i bought the film as soon as it was released for ? and would recommend it to everyone to watch and the fly fishing was amazing really cried at the end it was so sad and you know what they say if you cry at a film it must have been good and this definitely was also ? to the two little boy's that played the ? of norman and paul they were just brilliant children are often left out of the ? list i think because the stars that play them all grown up are such a big profile for the whole film but these children are amazing and should be praised for what they have done don't you think the whole story was so lovely because it was true and was someone's life after all that was shared with us all \""
      ]
     },
     "execution_count": 6,
     "metadata": {},
     "output_type": "execute_result"
    }
   ],
   "source": [
    "actual_review"
   ]
  },
  {
   "cell_type": "code",
   "execution_count": 7,
   "metadata": {},
   "outputs": [],
   "source": [
    "# # Create a 2D Tensor to be processed by the embedding layer\n",
    "from keras.preprocessing import sequence\n",
    "# pad sequence makes every sequence of equal length by adding 0 in start of every sequence untill \n",
    "#every sequence becomes equal to provided length or maxlength sequence\n",
    "\n",
    "X_train = sequence.pad_sequences(XT,maxlen=500)\n",
    "X_test = sequence.pad_sequences(xt,maxlen=500)"
   ]
  },
  {
   "cell_type": "code",
   "execution_count": 8,
   "metadata": {},
   "outputs": [],
   "source": [
    "# Training the model"
   ]
  },
  {
   "cell_type": "code",
   "execution_count": 9,
   "metadata": {},
   "outputs": [],
   "source": [
    "from keras.layers import Dense,Embedding,SimpleRNN\n",
    "from keras.models import Sequential"
   ]
  },
  {
   "cell_type": "code",
   "execution_count": 10,
   "metadata": {},
   "outputs": [],
   "source": [
    "model = Sequential()"
   ]
  },
  {
   "cell_type": "code",
   "execution_count": 11,
   "metadata": {},
   "outputs": [
    {
     "name": "stdout",
     "output_type": "stream",
     "text": [
      "Model: \"sequential\"\n",
      "_________________________________________________________________\n",
      "Layer (type)                 Output Shape              Param #   \n",
      "=================================================================\n",
      "embedding (Embedding)        (None, None, 64)          640000    \n",
      "_________________________________________________________________\n",
      "simple_rnn (SimpleRNN)       (None, 32)                3104      \n",
      "_________________________________________________________________\n",
      "dense (Dense)                (None, 1)                 33        \n",
      "=================================================================\n",
      "Total params: 643,137\n",
      "Trainable params: 643,137\n",
      "Non-trainable params: 0\n",
      "_________________________________________________________________\n"
     ]
    }
   ],
   "source": [
    "model.add(Embedding(10000,64))\n",
    "model.add(SimpleRNN(32))\n",
    "model.add(Dense(1,activation='sigmoid'))\n",
    "model.summary()"
   ]
  },
  {
   "cell_type": "code",
   "execution_count": 12,
   "metadata": {},
   "outputs": [],
   "source": [
    "# compiling the model\n",
    "model.compile(optimizer='rmsprop',loss='binary_crossentropy',metrics=['acc'])"
   ]
  },
  {
   "cell_type": "code",
   "execution_count": 13,
   "metadata": {},
   "outputs": [
    {
     "name": "stdout",
     "output_type": "stream",
     "text": [
      "Epoch 1/10\n",
      "157/157 [==============================] - 32s 194ms/step - loss: 0.6062 - acc: 0.6496 - val_loss: 0.7649 - val_acc: 0.6030\n",
      "Epoch 2/10\n",
      "157/157 [==============================] - 29s 186ms/step - loss: 0.3608 - acc: 0.8511 - val_loss: 0.4486 - val_acc: 0.7952\n",
      "Epoch 3/10\n",
      "157/157 [==============================] - 29s 186ms/step - loss: 0.2396 - acc: 0.9079 - val_loss: 0.3549 - val_acc: 0.8556\n",
      "Epoch 4/10\n",
      "157/157 [==============================] - 29s 188ms/step - loss: 0.1452 - acc: 0.9508 - val_loss: 0.4733 - val_acc: 0.7966\n",
      "Epoch 5/10\n",
      "157/157 [==============================] - 30s 188ms/step - loss: 0.0806 - acc: 0.9744 - val_loss: 0.4867 - val_acc: 0.8256\n",
      "Epoch 6/10\n",
      "157/157 [==============================] - 29s 185ms/step - loss: 0.0450 - acc: 0.9875 - val_loss: 0.5230 - val_acc: 0.8242\n",
      "Epoch 7/10\n",
      "157/157 [==============================] - 29s 187ms/step - loss: 0.0230 - acc: 0.9938 - val_loss: 0.5652 - val_acc: 0.8254\n",
      "Epoch 8/10\n",
      "157/157 [==============================] - 29s 186ms/step - loss: 0.0195 - acc: 0.9952 - val_loss: 0.6156 - val_acc: 0.8248\n",
      "Epoch 9/10\n",
      "157/157 [==============================] - 29s 187ms/step - loss: 0.0139 - acc: 0.9962 - val_loss: 0.6277 - val_acc: 0.8264\n",
      "Epoch 10/10\n",
      "157/157 [==============================] - 32s 201ms/step - loss: 0.0105 - acc: 0.9970 - val_loss: 0.9190 - val_acc: 0.7374\n"
     ]
    }
   ],
   "source": [
    "hist = model.fit(X_train,YT,validation_split=0.2,epochs=10,batch_size=128)"
   ]
  },
  {
   "cell_type": "code",
   "execution_count": 14,
   "metadata": {},
   "outputs": [],
   "source": [
    "# plotting the model\n",
    "import matplotlib.pyplot as plt\n",
    "\n",
    "def plot_model(hist):\n",
    "    acc = hist.history['acc']\n",
    "    val_acc = hist.history['val_acc']\n",
    "    \n",
    "    loss = hist.history['loss']\n",
    "    val_loss = hist.history['val_loss']\n",
    "    \n",
    "    epochs = range(1,len(loss)+1)\n",
    "    \n",
    "    plt.title('Training_Accuracy vs Validation_Accuracy')\n",
    "    plt.plot(epochs,acc,label='Training Accuracy')\n",
    "    plt.plot(epochs,val_acc,label='Valdation Accuracy')\n",
    "    plt.legend()\n",
    "    plt.show()\n",
    "    \n",
    "    plt.title('Training_Loss vs Validation_Loss')\n",
    "    plt.plot(epochs,loss,label='Training Loss')\n",
    "    plt.plot(epochs,val_loss,label='Valdation Loss')\n",
    "    plt.legend()\n",
    "    plt.show()"
   ]
  },
  {
   "cell_type": "code",
   "execution_count": 15,
   "metadata": {},
   "outputs": [
    {
     "data": {
      "image/png": "[encoded data removed]",
      "text/plain": [
       "<Figure size 432x288 with 1 Axes>"
      ]
     },
     "metadata": {
      "needs_background": "light"
     },
     "output_type": "display_data"
    },
    {
     "data": {
      "image/png": "[encoded data removed]",
      "text/plain": [
       "<Figure size 432x288 with 1 Axes>"
      ]
     },
     "metadata": {
      "needs_background": "light"
     },
     "output_type": "display_data"
    }
   ],
   "source": [
    "plot_model(hist)"
   ]
  },
  {
   "cell_type": "code",
   "execution_count": 16,
   "metadata": {},
   "outputs": [],
   "source": [
    "# saving the model \n",
    "model.save(\"overfitting_model.h5\")"
   ]
  },
  {
   "cell_type": "markdown",
   "metadata": {},
   "source": [
    "## Here we can see that after certaing epochs validation loss started increasing and validation accuracy started decreasing whereas training loss and accuracy is decreasing and increasing respectively shows that model is overfitting"
   ]
  },
  {
   "cell_type": "code",
   "execution_count": 17,
   "metadata": {},
   "outputs": [],
   "source": [
    "# To avoid overfitting using callbacks"
   ]
  },
  {
   "cell_type": "code",
   "execution_count": 18,
   "metadata": {},
   "outputs": [
    {
     "name": "stdout",
     "output_type": "stream",
     "text": [
      "WARNING:tensorflow:`period` argument is deprecated. Please use `save_freq` to specify the frequency in number of batches seen.\n"
     ]
    }
   ],
   "source": [
    "from keras.callbacks import ModelCheckpoint # save the best model, fight overfiitting\n",
    "from keras.callbacks import EarlyStopping #save time\n",
    "\n",
    "\n",
    "checkpoint = ModelCheckpoint(\"best_model.h5\", monitor='val_loss', verbose=0, save_best_only=True, save_weights_only=False, mode='auto', period=1)\n",
    "earlystop = EarlyStopping(monitor='val_acc',patience=1)"
   ]
  },
  {
   "cell_type": "code",
   "execution_count": 19,
   "metadata": {},
   "outputs": [
    {
     "name": "stdout",
     "output_type": "stream",
     "text": [
      "Model: \"sequential_1\"\n",
      "_________________________________________________________________\n",
      "Layer (type)                 Output Shape              Param #   \n",
      "=================================================================\n",
      "embedding_1 (Embedding)      (None, None, 64)          640000    \n",
      "_________________________________________________________________\n",
      "simple_rnn_1 (SimpleRNN)     (None, 32)                3104      \n",
      "_________________________________________________________________\n",
      "dense_1 (Dense)              (None, 1)                 33        \n",
      "=================================================================\n",
      "Total params: 643,137\n",
      "Trainable params: 643,137\n",
      "Non-trainable params: 0\n",
      "_________________________________________________________________\n"
     ]
    }
   ],
   "source": [
    "model2 = Sequential()\n",
    "model2.add(Embedding(10000,64))\n",
    "model2.add(SimpleRNN(32))\n",
    "model2.add(Dense(1,activation='sigmoid'))\n",
    "model2.summary()"
   ]
  },
  {
   "cell_type": "code",
   "execution_count": 20,
   "metadata": {},
   "outputs": [],
   "source": [
    "model2.compile(optimizer='rmsprop',loss='binary_crossentropy',metrics=['acc'])"
   ]
  },
  {
   "cell_type": "code",
   "execution_count": 21,
   "metadata": {},
   "outputs": [
    {
     "name": "stdout",
     "output_type": "stream",
     "text": [
      "Epoch 1/10\n",
      "157/157 [==============================] - 19834s 127s/step - loss: 0.5432 - acc: 0.7247 - val_loss: 0.5357 - val_acc: 0.7296\n",
      "Epoch 2/10\n",
      "157/157 [==============================] - 32s 203ms/step - loss: 0.3412 - acc: 0.8626 - val_loss: 0.3412 - val_acc: 0.8616\n",
      "Epoch 3/10\n",
      "157/157 [==============================] - 31s 197ms/step - loss: 0.2437 - acc: 0.9056 - val_loss: 0.3314 - val_acc: 0.8654\n",
      "Epoch 4/10\n",
      "157/157 [==============================] - 30s 193ms/step - loss: 0.1746 - acc: 0.9346 - val_loss: 0.3414 - val_acc: 0.8782\n",
      "Epoch 5/10\n",
      "157/157 [==============================] - 31s 196ms/step - loss: 0.1130 - acc: 0.9613 - val_loss: 0.4397 - val_acc: 0.8272\n"
     ]
    }
   ],
   "source": [
    "hist2= model2.fit(X_train,YT,validation_split=0.2,epochs=10,batch_size=128,callbacks=[checkpoint,earlystop])"
   ]
  },
  {
   "cell_type": "code",
   "execution_count": 22,
   "metadata": {},
   "outputs": [
    {
     "data": {
      "image/png": "[encoded data removed]",
      "text/plain": [
       "<Figure size 432x288 with 1 Axes>"
      ]
     },
     "metadata": {
      "needs_background": "light"
     },
     "output_type": "display_data"
    },
    {
     "data": {
      "image/png": "[encoded data removed]",
      "text/plain": [
       "<Figure size 432x288 with 1 Axes>"
      ]
     },
     "metadata": {
      "needs_background": "light"
     },
     "output_type": "display_data"
    }
   ],
   "source": [
    "plot_model(hist2)"
   ]
  },
  {
   "cell_type": "code",
   "execution_count": 25,
   "metadata": {},
   "outputs": [],
   "source": [
    "model2.load_weights('best_model.h5')"
   ]
  },
  {
   "cell_type": "code",
   "execution_count": 29,
   "metadata": {},
   "outputs": [
    {
     "name": "stdout",
     "output_type": "stream",
     "text": [
      "782/782 [==============================] - 15s 19ms/step - loss: 0.1824 - acc: 0.9362\n"
     ]
    },
    {
     "data": {
      "text/plain": [
       "[0.18242822587490082, 0.936240017414093]"
      ]
     },
     "execution_count": 29,
     "metadata": {},
     "output_type": "execute_result"
    }
   ],
   "source": [
    "model2.evaluate(X_train,YT) #Training set evaluation on best model"
   ]
  },
  {
   "cell_type": "code",
   "execution_count": 30,
   "metadata": {},
   "outputs": [
    {
     "name": "stdout",
     "output_type": "stream",
     "text": [
      "782/782 [==============================] - 16s 21ms/step - loss: 0.3331 - acc: 0.8637\n"
     ]
    },
    {
     "data": {
      "text/plain": [
       "[0.33312398195266724, 0.8637199997901917]"
      ]
     },
     "execution_count": 30,
     "metadata": {},
     "output_type": "execute_result"
    }
   ],
   "source": [
    "model2.evaluate(X_test,yt) # testing set evaluation on best model"
   ]
  },
  {
   "cell_type": "markdown",
   "metadata": {},
   "source": [
    "## Here as you see we decreased the overfitting by u8sing earlystoppage or checkpoint call backs and saving the best model"
   ]
  },
  {
   "cell_type": "code",
   "execution_count": null,
   "metadata": {},
   "outputs": [],
   "source": []
  }
 ],
 "metadata": {
  "kernelspec": {
   "display_name": "Python 3",
   "language": "python",
   "name": "python3"
  },
  "language_info": {
   "codemirror_mode": {
    "name": "ipython",
    "version": 3
   },
   "file_extension": ".py",
   "mimetype": "text/x-python",
   "name": "python",
   "nbconvert_exporter": "python",
   "pygments_lexer": "ipython3",
   "version": "3.8.3"
  }
 },
 "nbformat": 4,
 "nbformat_minor": 4
}
