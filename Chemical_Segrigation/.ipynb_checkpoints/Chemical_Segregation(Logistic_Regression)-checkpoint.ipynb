{
 "cells": [
  {
   "cell_type": "markdown",
   "metadata": {},
   "source": [
    "# Classifying using Logistic Regression"
   ]
  },
  {
   "cell_type": "code",
   "execution_count": 1,
   "metadata": {},
   "outputs": [],
   "source": [
    "import numpy as np\n",
    "import pandas as pd\n",
    "import matplotlib.pyplot as plt"
   ]
  },
  {
   "cell_type": "code",
   "execution_count": 2,
   "metadata": {},
   "outputs": [],
   "source": [
    "X_train = pd.read_csv(\"Logistic_X_Train.csv\")\n",
    "Y_train = pd.read_csv(\"Logistic_Y_Train.csv\")"
   ]
  },
  {
   "cell_type": "code",
   "execution_count": 3,
   "metadata": {},
   "outputs": [
    {
     "name": "stdout",
     "output_type": "stream",
     "text": [
      "(3000, 3) (3000, 1)\n"
     ]
    }
   ],
   "source": [
    "X_train = X_train.values\n",
    "Y_train = Y_train.values\n",
    "print(X_train.shape , Y_train.shape)"
   ]
  },
  {
   "cell_type": "code",
   "execution_count": 4,
   "metadata": {},
   "outputs": [],
   "source": [
    "#normalising the data\n",
    "X = (X_train - X_train.mean())/X_train.std()"
   ]
  },
  {
   "cell_type": "code",
   "execution_count": 5,
   "metadata": {},
   "outputs": [],
   "source": [
    "def sigmoid(x):\n",
    "    return 1.0/(1.0 + np.exp(-x))\n",
    "\n",
    "def hypothesis(X,theta):\n",
    "    return sigmoid(np.dot(X,theta))\n",
    "\n",
    "def error(X,Y,theta):\n",
    "    m = X.shape[0]\n",
    "    hi = hypothesis(X,theta)\n",
    "    e = -1*np.mean(Y*np.log(hi) + (1-Y)*np.log(1-hi))\n",
    "    return e\n",
    "\n",
    "def gradient(X,Y,theta):\n",
    "    m = X.shape[0]\n",
    "    h = hypothesis(X,theta)\n",
    "    grad = np.dot(X.T,(Y-h))\n",
    "    return grad/m\n",
    "\n",
    "def gradient_descent(X,Y,lr=0.4,max_epochs=5000):\n",
    "    error_list = []\n",
    "    n = X.shape[1]\n",
    "    theta = np.zeros((n,1))\n",
    "    for i in range(max_epochs):\n",
    "        e = error(X,Y,theta)\n",
    "        error_list.append(e)\n",
    "        grad = gradient(X,Y,theta)\n",
    "        theta = theta + lr*grad\n",
    "    \n",
    "    return error_list,theta"
   ]
  },
  {
   "cell_type": "code",
   "execution_count": 6,
   "metadata": {},
   "outputs": [
    {
     "name": "stdout",
     "output_type": "stream",
     "text": [
      "(3000, 4)\n"
     ]
    }
   ],
   "source": [
    "#Adding the dummy feature in X_train for theta0\n",
    "ones = np.ones((X.shape[0],1))\n",
    "X = np.hstack((ones,X))\n",
    "print(X.shape)"
   ]
  },
  {
   "cell_type": "code",
   "execution_count": 7,
   "metadata": {},
   "outputs": [],
   "source": [
    "error_list,theta = gradient_descent(X,Y_train)"
   ]
  },
  {
   "cell_type": "code",
   "execution_count": 8,
   "metadata": {},
   "outputs": [
    {
     "data": {
      "image/png": "[encoded data removed]",
      "text/plain": [
       "<Figure size 432x288 with 1 Axes>"
      ]
     },
     "metadata": {
      "needs_background": "light"
     },
     "output_type": "display_data"
    }
   ],
   "source": [
    "plt.title(\"change in error in each iteration\")\n",
    "plt.plot(error_list)\n",
    "plt.show()"
   ]
  },
  {
   "cell_type": "code",
   "execution_count": 9,
   "metadata": {},
   "outputs": [
    {
     "name": "stdout",
     "output_type": "stream",
     "text": [
      "[[1]\n",
      " [1]\n",
      " [1]\n",
      " [0]\n",
      " [0]]\n"
     ]
    }
   ],
   "source": [
    "def predict(X,theta):\n",
    "    h = hypothesis(X,theta)\n",
    "    output = np.zeros(h.shape)\n",
    "    output[h>=0.5] = 1\n",
    "    output = output.astype('int')\n",
    "    return output\n",
    "\n",
    "Ypred = predict(X,theta)\n",
    "print(Ypred[:5,:])"
   ]
  },
  {
   "cell_type": "code",
   "execution_count": 11,
   "metadata": {},
   "outputs": [
    {
     "name": "stdout",
     "output_type": "stream",
     "text": [
      "Accuracy of the model is 99.53333333333333 %\n"
     ]
    }
   ],
   "source": [
    "def accuracy(Y,Ypred):\n",
    "    Y = Y.reshape((-1,1))\n",
    "    return np.sum(Y == Ypred)/Y.shape[0]\n",
    "\n",
    "acc = accuracy(Y_train,Ypred)*100\n",
    "\n",
    "print(\"Accuracy of the model is \" + str(acc) + \" %\")"
   ]
  },
  {
   "cell_type": "code",
   "execution_count": 27,
   "metadata": {},
   "outputs": [
    {
     "data": {
      "text/plain": [
       "[<matplotlib.lines.Line2D at 0x13d4a683bb0>]"
      ]
     },
     "execution_count": 27,
     "metadata": {},
     "output_type": "execute_result"
    },
    {
     "data": {
      "image/png": "[encoded data removed]",
      "text/plain": [
       "<Figure size 432x288 with 1 Axes>"
      ]
     },
     "metadata": {
      "needs_background": "light"
     },
     "output_type": "display_data"
    }
   ],
   "source": [
    "x = np.arange(-10,10,0.01)\n",
    "data = sigmoid(x)\n",
    "plt.plot(x,data)"
   ]
  },
  {
   "cell_type": "code",
   "execution_count": null,
   "metadata": {},
   "outputs": [],
   "source": []
  }
 ],
 "metadata": {
  "kernelspec": {
   "display_name": "Python 3",
   "language": "python",
   "name": "python3"
  },
  "language_info": {
   "codemirror_mode": {
    "name": "ipython",
    "version": 3
   },
   "file_extension": ".py",
   "mimetype": "text/x-python",
   "name": "python",
   "nbconvert_exporter": "python",
   "pygments_lexer": "ipython3",
   "version": "3.8.3"
  }
 },
 "nbformat": 4,
 "nbformat_minor": 4
}
